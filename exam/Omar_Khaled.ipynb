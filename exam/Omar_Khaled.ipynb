{
 "cells": [
  {
   "cell_type": "markdown",
   "id": "484b60f9",
   "metadata": {},
   "source": [
    "# Exam for Omar Khaled\n",
    "\n",
    "This exam covers concepts from Lab 00 and Lab 01. Use the provided random dataset to complete the tasks below. Document your results and explain your steps.\n"
   ]
  },
  {
   "cell_type": "code",
   "execution_count": null,
   "id": "e038e2c7",
   "metadata": {},
   "outputs": [],
   "source": [
    "import numpy as np\n",
    "import pandas as pd\n",
    "\n",
    "np.random.seed(0)\n",
    "size = 100\n",
    "data = pd.DataFrame({\n",
    "    'A': np.random.randn(size),\n",
    "    'B': np.random.randn(size) * 50 + 20,\n",
    "    'C': np.random.choice([1, 2, 3, np.nan], size=size),\n",
    "    'Column D': np.random.randn(size)\n",
    "})\n",
    "outliers = np.random.choice(size, 5, replace=False)\n",
    "data.loc[outliers, 'B'] *= 10\n",
    "duplicates = np.random.choice(size, 5, replace=False)\n",
    "data = pd.concat([data, data.iloc[duplicates]], ignore_index=True)\n",
    "data.head()\n"
   ]
  },
  {
   "cell_type": "markdown",
   "id": "f9755a78",
   "metadata": {},
   "source": [
    "## Task 1: Data Cleaning\n",
    "\n",
    "- Handle missing values.\n",
    "- Remove duplicate rows.\n",
    "- Address outliers.\n",
    "- Document each step.\n"
   ]
  },
  {
   "cell_type": "code",
   "execution_count": null,
   "id": "39f451ad",
   "metadata": {},
   "outputs": [],
   "source": [
    "# Your data cleaning code here\n"
   ]
  },
  {
   "cell_type": "markdown",
   "id": "d7903abe",
   "metadata": {},
   "source": [
    "## Task 2: Summaries and Normalization\n",
    "\n",
    "- Provide summary statistics.\n",
    "- Normalize the numeric columns.\n",
    "- Explain the changes after normalization.\n"
   ]
  },
  {
   "cell_type": "code",
   "execution_count": null,
   "id": "1bb864fb",
   "metadata": {},
   "outputs": [],
   "source": [
    "# Your code for summary and normalization here\n"
   ]
  },
  {
   "cell_type": "markdown",
   "id": "52335ebb",
   "metadata": {},
   "source": [
    "## Task 3: Plotting\n",
    "\n",
    "- Plot histograms for each numeric column.\n",
    "- Create a scatter plot comparing two columns of your choice.\n",
    "- Comment on the patterns you observe.\n"
   ]
  },
  {
   "cell_type": "code",
   "execution_count": null,
   "id": "a1061635",
   "metadata": {},
   "outputs": [],
   "source": [
    "# Your plotting code here\n"
   ]
  },
  {
   "cell_type": "markdown",
   "id": "81c55164",
   "metadata": {},
   "source": [
    "## Task 4: Column Standardization\n",
    "\n",
    "- Convert all column names to lowercase.\n",
    "- Ensure column names have no spaces.\n",
    "- Document the changes.\n"
   ]
  },
  {
   "cell_type": "code",
   "execution_count": null,
   "id": "81d7e1fc",
   "metadata": {},
   "outputs": [],
   "source": [
    "# Your code for column standardization here\n"
   ]
  },
  {
   "cell_type": "markdown",
   "id": "4dadb6ed",
   "metadata": {},
   "source": [
    "## Task 5: Reproducibility Function\n",
    "\n",
    "- Write a function `repro_formula` that returns the string `R = f(code, data, environment)`.\n",
    "- Call the function and display its output.\n"
   ]
  },
  {
   "cell_type": "code",
   "execution_count": null,
   "id": "e8194a87",
   "metadata": {},
   "outputs": [],
   "source": [
    "# Your reproducibility function code here\n"
   ]
  },
  {
   "cell_type": "markdown",
   "id": "bccc4be9",
   "metadata": {},
   "source": [
    "## Task 6: Filtering and Grouping\n",
    "\n",
    "- Filter rows where `A` is greater than 0 and `C` is not `NaN`.\n",
    "- Group the filtered data by `C` and compute the mean of `B` for each group.\n",
    "- Discuss any patterns you observe."
   ]
  },
  {
   "cell_type": "code",
   "execution_count": null,
   "id": "a28a796b",
   "metadata": {},
   "outputs": [],
   "source": [
    "# Your code for filtering and grouping here"
   ]
  },
  {
   "cell_type": "markdown",
   "id": "f35c76d5",
   "metadata": {},
   "source": [
    "## Task 7: Feature Engineering with `np.where`\n",
    "\n",
    "- Create a new column `a_label` that labels values of `A` as `'high'` if above the mean, otherwise `'low'`.\n",
    "- Use `np.where` to implement the labeling.\n",
    "- Display the count of each label."
   ]
  },
  {
   "cell_type": "code",
   "execution_count": null,
   "id": "206f2592",
   "metadata": {},
   "outputs": [],
   "source": [
    "# Your feature engineering code here"
   ]
  },
  {
   "cell_type": "markdown",
   "id": "4acf671e",
   "metadata": {},
   "source": [
    "## Written Questions\n",
    "\n",
    "1. Describe the machine learning workflow.\n",
    "2. What are model parameters?\n",
    "3. What are coefficients and intercepts?\n",
    "4. How does linear regression work?\n",
    "5. Compare conda and pip for environment management.\n",
    "6. Define MCAR, MAR, and MNAR.\n",
    "7. When would you choose median imputation over mean, and why?\n",
    "8. Which missingness type applies when the probability of missingness depends on the unobserved value itself?\n",
    "\n",
    "Write your answers below."
   ]
  },
  {
   "cell_type": "markdown",
   "id": "92a562e9",
   "metadata": {},
   "source": [
    "*Your answers here.*\n"
   ]
  }
 ],
 "metadata": {
  "kernelspec": {
   "display_name": "Python 3",
   "language": "python",
   "name": "python3"
  },
  "language_info": {
   "name": "python"
  }
 },
 "nbformat": 4,
 "nbformat_minor": 5
}
