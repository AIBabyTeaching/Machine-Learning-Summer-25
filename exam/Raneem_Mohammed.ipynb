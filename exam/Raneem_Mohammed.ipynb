{
 "cells": [
  {
   "cell_type": "markdown",
   "id": "f47503ae",
   "metadata": {},
   "source": [
    "# Exam for Raneem Mohammed\n",
    "\n",
    "This exam covers concepts from Lab 00 and Lab 01. Use the provided random dataset to complete the tasks below. Document your results and explain your steps.\n"
   ]
  },
  {
   "cell_type": "code",
   "execution_count": null,
   "id": "1f18af14",
   "metadata": {},
   "outputs": [],
   "source": [
    "import numpy as np\n",
    "import pandas as pd\n",
    "\n",
    "np.random.seed(0)\n",
    "size = 100\n",
    "data = pd.DataFrame({\n",
    "    'A': np.random.randn(size),\n",
    "    'B': np.random.randn(size) * 50 + 20,\n",
    "    'C': np.random.choice([1, 2, 3, np.nan], size=size),\n",
    "    'Column D': np.random.randn(size)\n",
    "})\n",
    "outliers = np.random.choice(size, 5, replace=False)\n",
    "data.loc[outliers, 'B'] *= 10\n",
    "duplicates = np.random.choice(size, 5, replace=False)\n",
    "data = pd.concat([data, data.iloc[duplicates]], ignore_index=True)\n",
    "data.head()\n"
   ]
  },
  {
   "cell_type": "markdown",
   "id": "5efbf640",
   "metadata": {},
   "source": [
    "## Task 1: Data Cleaning\n",
    "\n",
    "- Handle missing values.\n",
    "- Remove duplicate rows.\n",
    "- Address outliers.\n",
    "- Document each step.\n"
   ]
  },
  {
   "cell_type": "code",
   "execution_count": null,
   "id": "4e6d793d",
   "metadata": {},
   "outputs": [],
   "source": [
    "# Your data cleaning code here\n"
   ]
  },
  {
   "cell_type": "markdown",
   "id": "74c102ba",
   "metadata": {},
   "source": [
    "## Task 2: Summaries and Normalization\n",
    "\n",
    "- Provide summary statistics.\n",
    "- Normalize the numeric columns.\n",
    "- Explain the changes after normalization.\n"
   ]
  },
  {
   "cell_type": "code",
   "execution_count": null,
   "id": "36ab3db1",
   "metadata": {},
   "outputs": [],
   "source": [
    "# Your code for summary and normalization here\n"
   ]
  },
  {
   "cell_type": "markdown",
   "id": "90530438",
   "metadata": {},
   "source": [
    "## Task 3: Plotting\n",
    "\n",
    "- Plot histograms for each numeric column.\n",
    "- Create a scatter plot comparing two columns of your choice.\n",
    "- Comment on the patterns you observe.\n"
   ]
  },
  {
   "cell_type": "code",
   "execution_count": null,
   "id": "81bfe19e",
   "metadata": {},
   "outputs": [],
   "source": [
    "# Your plotting code here\n"
   ]
  },
  {
   "cell_type": "markdown",
   "id": "c2fa29dc",
   "metadata": {},
   "source": [
    "## Task 4: Column Standardization\n",
    "\n",
    "- Convert all column names to lowercase.\n",
    "- Ensure column names have no spaces.\n",
    "- Document the changes.\n"
   ]
  },
  {
   "cell_type": "code",
   "execution_count": null,
   "id": "6b77da3e",
   "metadata": {},
   "outputs": [],
   "source": [
    "# Your code for column standardization here\n"
   ]
  },
  {
   "cell_type": "markdown",
   "id": "409dabc8",
   "metadata": {},
   "source": [
    "## Task 5: Reproducibility Function\n",
    "\n",
    "- Write a function `repro_formula` that returns the string `R = f(code, data, environment)`.\n",
    "- Call the function and display its output.\n"
   ]
  },
  {
   "cell_type": "code",
   "execution_count": null,
   "id": "fdcf5c4c",
   "metadata": {},
   "outputs": [],
   "source": [
    "# Your reproducibility function code here\n"
   ]
  },
  {
   "cell_type": "markdown",
   "id": "e2490e70",
   "metadata": {},
   "source": [
    "## Task 6: Filtering and Grouping\n",
    "\n",
    "- Filter rows where `A` is greater than 0 and `C` is not `NaN`.\n",
    "- Group the filtered data by `C` and compute the mean of `B` for each group.\n",
    "- Discuss any patterns you observe."
   ]
  },
  {
   "cell_type": "code",
   "execution_count": null,
   "id": "7325d96e",
   "metadata": {},
   "outputs": [],
   "source": [
    "# Your code for filtering and grouping here"
   ]
  },
  {
   "cell_type": "markdown",
   "id": "ad9469ae",
   "metadata": {},
   "source": [
    "## Task 7: Feature Engineering with `np.where`\n",
    "\n",
    "- Create a new column `a_label` that labels values of `A` as `'high'` if above the mean, otherwise `'low'`.\n",
    "- Use `np.where` to implement the labeling.\n",
    "- Display the count of each label."
   ]
  },
  {
   "cell_type": "code",
   "execution_count": null,
   "id": "d08843d7",
   "metadata": {},
   "outputs": [],
   "source": [
    "# Your feature engineering code here"
   ]
  },
  {
   "cell_type": "markdown",
   "id": "d56d87f9",
   "metadata": {},
   "source": [
    "## Written Questions\n",
    "\n",
    "1. Describe the machine learning workflow.\n",
    "2. What are model parameters?\n",
    "3. What are coefficients and intercepts?\n",
    "4. How does linear regression work?\n",
    "5. Compare conda and pip for environment management.\n",
    "6. Define MCAR, MAR, and MNAR.\n",
    "7. When would you choose median imputation over mean, and why?\n",
    "8. Which missingness type applies when the probability of missingness depends on the unobserved value itself?\n",
    "\n",
    "Write your answers below."
   ]
  },
  {
   "cell_type": "markdown",
   "id": "e5469516",
   "metadata": {},
   "source": [
    "*Your answers here.*\n"
   ]
  }
 ],
 "metadata": {
  "kernelspec": {
   "display_name": "Python 3",
   "language": "python",
   "name": "python3"
  },
  "language_info": {
   "name": "python"
  }
 },
 "nbformat": 4,
 "nbformat_minor": 5
}
