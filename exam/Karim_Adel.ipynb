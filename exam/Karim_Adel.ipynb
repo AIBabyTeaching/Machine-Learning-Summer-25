{
 "cells": [
  {
   "cell_type": "markdown",
   "id": "bcf6772a",
   "metadata": {},
   "source": [
    "# Exam for Karim Adel\n",
    "\n",
    "This exam covers concepts from Lab 00 and Lab 01. Use the provided random dataset to complete the tasks below. Document your results and explain your steps.\n"
   ]
  },
  {
   "cell_type": "code",
   "execution_count": null,
   "id": "763be806",
   "metadata": {},
   "outputs": [],
   "source": [
    "import numpy as np\n",
    "import pandas as pd\n",
    "\n",
    "np.random.seed(0)\n",
    "size = 100\n",
    "data = pd.DataFrame({\n",
    "    'A': np.random.randn(size),\n",
    "    'B': np.random.randn(size) * 50 + 20,\n",
    "    'C': np.random.choice([1, 2, 3, np.nan], size=size),\n",
    "    'Column D': np.random.randn(size)\n",
    "})\n",
    "outliers = np.random.choice(size, 5, replace=False)\n",
    "data.loc[outliers, 'B'] *= 10\n",
    "duplicates = np.random.choice(size, 5, replace=False)\n",
    "data = pd.concat([data, data.iloc[duplicates]], ignore_index=True)\n",
    "data.head()\n"
   ]
  },
  {
   "cell_type": "markdown",
   "id": "370731b4",
   "metadata": {},
   "source": [
    "## Task 1: Data Cleaning\n",
    "\n",
    "- Handle missing values.\n",
    "- Remove duplicate rows.\n",
    "- Address outliers.\n",
    "- Document each step.\n"
   ]
  },
  {
   "cell_type": "code",
   "execution_count": null,
   "id": "911db067",
   "metadata": {},
   "outputs": [],
   "source": [
    "# Your data cleaning code here\n"
   ]
  },
  {
   "cell_type": "markdown",
   "id": "ec4ea8a1",
   "metadata": {},
   "source": [
    "## Task 2: Summaries and Normalization\n",
    "\n",
    "- Provide summary statistics.\n",
    "- Normalize the numeric columns.\n",
    "- Explain the changes after normalization.\n"
   ]
  },
  {
   "cell_type": "code",
   "execution_count": null,
   "id": "549d5c66",
   "metadata": {},
   "outputs": [],
   "source": [
    "# Your code for summary and normalization here\n"
   ]
  },
  {
   "cell_type": "markdown",
   "id": "0f1fcaa6",
   "metadata": {},
   "source": [
    "## Task 3: Plotting\n",
    "\n",
    "- Plot histograms for each numeric column.\n",
    "- Create a scatter plot comparing two columns of your choice.\n",
    "- Comment on the patterns you observe.\n"
   ]
  },
  {
   "cell_type": "code",
   "execution_count": null,
   "id": "d6d8355d",
   "metadata": {},
   "outputs": [],
   "source": [
    "# Your plotting code here\n"
   ]
  },
  {
   "cell_type": "markdown",
   "id": "0fde8c45",
   "metadata": {},
   "source": [
    "## Task 4: Column Standardization\n",
    "\n",
    "- Convert all column names to lowercase.\n",
    "- Ensure column names have no spaces.\n",
    "- Document the changes.\n"
   ]
  },
  {
   "cell_type": "code",
   "execution_count": null,
   "id": "dbd0d971",
   "metadata": {},
   "outputs": [],
   "source": [
    "# Your code for column standardization here\n"
   ]
  },
  {
   "cell_type": "markdown",
   "id": "6656e6e1",
   "metadata": {},
   "source": [
    "## Task 5: Reproducibility Function\n",
    "\n",
    "- Write a function `repro_formula` that returns the string `R = f(code, data, environment)`.\n",
    "- Call the function and display its output.\n"
   ]
  },
  {
   "cell_type": "code",
   "execution_count": null,
   "id": "03159f03",
   "metadata": {},
   "outputs": [],
   "source": [
    "# Your reproducibility function code here\n"
   ]
  },
  {
   "cell_type": "markdown",
   "id": "266ee77b",
   "metadata": {},
   "source": [
    "## Task 6: Filtering and Grouping\n",
    "\n",
    "- Filter rows where `A` is greater than 0 and `C` is not `NaN`.\n",
    "- Group the filtered data by `C` and compute the mean of `B` for each group.\n",
    "- Discuss any patterns you observe."
   ]
  },
  {
   "cell_type": "code",
   "execution_count": null,
   "id": "5fa11288",
   "metadata": {},
   "outputs": [],
   "source": [
    "# Your code for filtering and grouping here"
   ]
  },
  {
   "cell_type": "markdown",
   "id": "93eb61a3",
   "metadata": {},
   "source": [
    "## Task 7: Feature Engineering with `np.where`\n",
    "\n",
    "- Create a new column `a_label` that labels values of `A` as `'high'` if above the mean, otherwise `'low'`.\n",
    "- Use `np.where` to implement the labeling.\n",
    "- Display the count of each label."
   ]
  },
  {
   "cell_type": "code",
   "execution_count": null,
   "id": "3e2ce95f",
   "metadata": {},
   "outputs": [],
   "source": [
    "# Your feature engineering code here"
   ]
  },
  {
   "cell_type": "markdown",
   "id": "f1afa42c",
   "metadata": {},
   "source": [
    "## Written Questions\n",
    "\n",
    "1. Describe the machine learning workflow.\n",
    "2. What are model parameters?\n",
    "3. What are coefficients and intercepts?\n",
    "4. How does linear regression work?\n",
    "5. Compare conda and pip for environment management.\n",
    "6. Define MCAR, MAR, and MNAR.\n",
    "7. When would you choose median imputation over mean, and why?\n",
    "8. Which missingness type applies when the probability of missingness depends on the unobserved value itself?\n",
    "\n",
    "Write your answers below."
   ]
  },
  {
   "cell_type": "markdown",
   "id": "69589aa4",
   "metadata": {},
   "source": [
    "*Your answers here.*\n"
   ]
  }
 ],
 "metadata": {
  "kernelspec": {
   "display_name": "Python 3",
   "language": "python",
   "name": "python3"
  },
  "language_info": {
   "name": "python"
  }
 },
 "nbformat": 4,
 "nbformat_minor": 5
}
