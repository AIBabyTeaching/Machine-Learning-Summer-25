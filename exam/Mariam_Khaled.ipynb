{
  "cells": [
    {
      "cell_type": "markdown",
      "metadata": {},
      "source": [
        "# Exam for Mariam Khaled\n\n",
        "This exam covers concepts from Lab 00 and Lab 01. Use the provided random dataset to complete the tasks below. Document your results and explain your steps.\n"
      ]
    },
    {
      "cell_type": "code",
      "metadata": {},
      "execution_count": null,
      "outputs": [],
      "source": [
        "import numpy as np\n",
        "import pandas as pd\n",
        "\n",
        "np.random.seed(0)\n",
        "size = 100\n",
        "data = pd.DataFrame({\n",
        "    'A': np.random.randn(size),\n",
        "    'B': np.random.randn(size) * 50 + 20,\n",
        "    'C': np.random.choice([1, 2, 3, np.nan], size=size),\n",
        "    'D': np.random.randn(size)\n",
        "})\n",
        "outliers = np.random.choice(size, 5, replace=False)\n",
        "data.loc[outliers, 'B'] *= 10\n",
        "duplicates = np.random.choice(size, 5, replace=False)\n",
        "data = pd.concat([data, data.iloc[duplicates]], ignore_index=True)\n",
        "data.head()\n"
      ]
    },
    {
      "cell_type": "markdown",
      "metadata": {},
      "source": [
        "## Task 1: Data Cleaning\n\n",
        "- Handle missing values.\n",
        "- Remove duplicate rows.\n",
        "- Address outliers.\n",
        "- Document each step.\n"
      ]
    },
    {
      "cell_type": "code",
      "metadata": {},
      "execution_count": null,
      "outputs": [],
      "source": [
        "# Your data cleaning code here\n"
      ]
    },
    {
      "cell_type": "markdown",
      "metadata": {},
      "source": [
        "## Task 2: Summaries and Normalization\n\n",
        "- Provide summary statistics.\n",
        "- Normalize the numeric columns.\n",
        "- Explain the changes after normalization.\n"
      ]
    },
    {
      "cell_type": "code",
      "metadata": {},
      "execution_count": null,
      "outputs": [],
      "source": [
        "# Your code for summary and normalization here\n"
      ]
    },
    {
      "cell_type": "markdown",
      "metadata": {},
      "source": [
        "## Task 3: Plotting\n\n",
        "- Plot histograms for each numeric column.\n",
        "- Create a scatter plot comparing two columns of your choice.\n",
        "- Comment on the patterns you observe.\n"
      ]
    },
    {
      "cell_type": "code",
      "metadata": {},
      "execution_count": null,
      "outputs": [],
      "source": [
        "# Your plotting code here\n"
      ]
    },
    {
      "cell_type": "markdown",
      "metadata": {},
      "source": [
        "## Written Questions\n\n",
        "1. Describe the machine learning workflow.\n",
        "2. How are training and testing performed?\n",
        "3. What is a correlation matrix?\n",
        "4. What does the variance of the data indicate?\n\n",
        "Write your answers below.\n"
      ]
    },
    {
      "cell_type": "markdown",
      "metadata": {},
      "source": [
        "*Your answers here.*\n"
      ]
    }
  ],
  "metadata": {
    "kernelspec": {
      "display_name": "Python 3",
      "language": "python",
      "name": "python3"
    },
    "language_info": {
      "name": "python"
    }
  },
  "nbformat": 4,
  "nbformat_minor": 5
}