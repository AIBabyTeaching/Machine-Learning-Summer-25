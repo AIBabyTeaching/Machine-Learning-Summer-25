{
 "nbformat": 4,
 "nbformat_minor": 5,
 "metadata": {},
 "cells": [
  {
   "id": "7a6bc2a5",
   "cell_type": "markdown",
   "source": "# Data Preprocessing",
   "metadata": {}
  },
  {
   "id": "3ff91e6b",
   "cell_type": "markdown",
   "source": "This lab covers normalization, cross validation, regularization and dimension reduction.",
   "metadata": {}
  },
  {
   "id": "a9637d7a",
   "cell_type": "code",
   "metadata": {},
   "execution_count": null,
   "source": "# Load Iris dataset\nfrom sklearn.datasets import load_iris\nfrom sklearn.model_selection import train_test_split\nX,y=load_iris(return_X_y=True)\nX_train,X_test,y_train,y_test=train_test_split(X,y,random_state=0)\nX_train[:3]",
   "outputs": []
  },
  {
   "id": "b456427b",
   "cell_type": "markdown",
   "source": "### Normalization\nFeatures are scaled to zero mean and unit variance:\n$$z = \frac{x-\\mu}{\\sigma}$$",
   "metadata": {}
  },
  {
   "id": "c78618e2",
   "cell_type": "code",
   "metadata": {},
   "execution_count": null,
   "source": "# Standardize features\nfrom sklearn.preprocessing import StandardScaler\nsc=StandardScaler()\nX_scaled=sc.fit_transform(X_train)\nX_scaled[:3]",
   "outputs": []
  },
  {
   "id": "98c18921",
   "cell_type": "markdown",
   "source": "### Cross Validation\nWe use cross-validation to estimate generalization performance.",
   "metadata": {}
  },
  {
   "id": "db07edfc",
   "cell_type": "code",
   "metadata": {},
   "execution_count": null,
   "source": "# Cross validation example\nfrom sklearn.linear_model import LogisticRegression\nfrom sklearn.model_selection import cross_val_score\nclf=LogisticRegression(max_iter=200)\ncv_scores=cross_val_score(clf,X_scaled,y_train,cv=5)\ncv_scores",
   "outputs": []
  },
  {
   "id": "38569bbc",
   "cell_type": "markdown",
   "source": "### Regularization\nPenalize large coefficients to reduce overfitting.",
   "metadata": {}
  },
  {
   "id": "1016cac1",
   "cell_type": "code",
   "metadata": {},
   "execution_count": null,
   "source": "# L2 regularization\nfrom sklearn.linear_model import Ridge\nridge=Ridge(alpha=1.0)\nridge.fit(X_scaled,y_train)\nridge.score(sc.transform(X_test),y_test)",
   "outputs": []
  },
  {
   "id": "1cd1d6ea",
   "cell_type": "markdown",
   "source": "### Dimension Reduction\nPrincipal Component Analysis (PCA) projects data to lower dimensions.",
   "metadata": {}
  },
  {
   "id": "1a394906",
   "cell_type": "code",
   "metadata": {},
   "execution_count": null,
   "source": "# PCA example\nfrom sklearn.decomposition import PCA\npca=PCA(n_components=2)\nX_pca=pca.fit_transform(X_scaled)\nX_pca[:3]",
   "outputs": []
  }
 ]
}