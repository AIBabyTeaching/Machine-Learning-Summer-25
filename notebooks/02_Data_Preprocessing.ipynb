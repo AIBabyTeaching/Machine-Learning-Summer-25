{
 "cells": [
  {
   "cell_type": "markdown",
   "id": "7a6bc2a5",
   "metadata": {},
   "source": [
    "# Data Preprocessing"
   ]
  },
  {
   "cell_type": "markdown",
   "id": "3ff91e6b",
   "metadata": {},
   "source": [
    "This lab covers normalization, cross validation, regularization and dimension reduction."
   ]
  },
  {
   "cell_type": "code",
   "execution_count": null,
   "id": "a9637d7a",
   "metadata": {},
   "outputs": [],
   "source": [
    "# Load Iris dataset\n",
    "from sklearn.datasets import load_iris\n",
    "from sklearn.model_selection import train_test_split\n",
    "X,y=load_iris(return_X_y=True)\n",
    "X_train,X_test,y_train,y_test=train_test_split(X,y,random_state=0)\n",
    "X_train[:3]"
   ]
  },
  {
   "cell_type": "markdown",
   "id": "b456427b",
   "metadata": {},
   "source": [
    "### Normalization\n",
    "Features are scaled to zero mean and unit variance:\n",
    "$$z = ({x-\\mu})/{\\sigma}$$"
   ]
  },
  {
   "cell_type": "code",
   "execution_count": null,
   "id": "c78618e2",
   "metadata": {},
   "outputs": [],
   "source": [
    "# Standardize features\n",
    "from sklearn.preprocessing import StandardScaler\n",
    "sc=StandardScaler()\n",
    "X_scaled=sc.fit_transform(X_train)\n",
    "X_scaled[:3]"
   ]
  },
  {
   "cell_type": "markdown",
   "id": "98c18921",
   "metadata": {},
   "source": [
    "### Cross Validation\n",
    "We use cross-validation to estimate generalization performance."
   ]
  },
  {
   "cell_type": "code",
   "execution_count": null,
   "id": "db07edfc",
   "metadata": {},
   "outputs": [],
   "source": [
    "# Cross validation example\n",
    "from sklearn.linear_model import LogisticRegression\n",
    "from sklearn.model_selection import cross_val_score\n",
    "clf=LogisticRegression(max_iter=200)\n",
    "cv_scores=cross_val_score(clf,X_scaled,y_train,cv=5)\n",
    "cv_scores"
   ]
  },
  {
   "cell_type": "markdown",
   "id": "38569bbc",
   "metadata": {},
   "source": [
    "### Regularization\n",
    "Penalize large coefficients to reduce overfitting."
   ]
  },
  {
   "cell_type": "code",
   "execution_count": null,
   "id": "1016cac1",
   "metadata": {},
   "outputs": [],
   "source": [
    "# L2 regularization\n",
    "from sklearn.linear_model import Ridge\n",
    "ridge=Ridge(alpha=1.0)\n",
    "ridge.fit(X_scaled,y_train)\n",
    "ridge.score(sc.transform(X_test),y_test)"
   ]
  },
  {
   "cell_type": "markdown",
   "id": "1cd1d6ea",
   "metadata": {},
   "source": [
    "### Dimension Reduction\n",
    "Principal Component Analysis (PCA) projects data to lower dimensions."
   ]
  },
  {
   "cell_type": "code",
   "execution_count": null,
   "id": "1a394906",
   "metadata": {},
   "outputs": [],
   "source": [
    "# PCA example\n",
    "from sklearn.decomposition import PCA\n",
    "pca=PCA(n_components=2)\n",
    "X_pca=pca.fit_transform(X_scaled)\n",
    "X_pca[:3]"
   ]
  }
 ],
 "metadata": {
  "language_info": {
   "name": "python"
  }
 },
 "nbformat": 4,
 "nbformat_minor": 5
}
