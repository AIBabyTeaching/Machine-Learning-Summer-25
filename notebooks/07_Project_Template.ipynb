{
 "cells": [
  {
   "cell_type": "markdown",
   "id": "e36cf515",
   "metadata": {},
   "source": [
    "# Project Template"
   ]
  },
  {
   "cell_type": "markdown",
   "id": "89bbb5ae",
   "metadata": {},
   "source": [
    "Describe your project: dataset choice, modeling steps, evaluation criteria."
   ]
  },
  {
   "cell_type": "code",
   "execution_count": 1,
   "id": "c381b537",
   "metadata": {
    "execution": {
     "iopub.execute_input": "2025-07-19T17:40:05.500046Z",
     "iopub.status.busy": "2025-07-19T17:40:05.499860Z",
     "iopub.status.idle": "2025-07-19T17:40:05.504024Z",
     "shell.execute_reply": "2025-07-19T17:40:05.503393Z"
    }
   },
   "outputs": [],
   "source": [
    "# TODO: load your data here"
   ]
  },
  {
   "cell_type": "code",
   "execution_count": 2,
   "id": "0de3f07e",
   "metadata": {
    "execution": {
     "iopub.execute_input": "2025-07-19T17:40:05.505827Z",
     "iopub.status.busy": "2025-07-19T17:40:05.505650Z",
     "iopub.status.idle": "2025-07-19T17:40:05.508592Z",
     "shell.execute_reply": "2025-07-19T17:40:05.507962Z"
    }
   },
   "outputs": [],
   "source": [
    "# TODO: preprocess the data"
   ]
  },
  {
   "cell_type": "code",
   "execution_count": 3,
   "id": "8ab67c29",
   "metadata": {
    "execution": {
     "iopub.execute_input": "2025-07-19T17:40:05.510279Z",
     "iopub.status.busy": "2025-07-19T17:40:05.510118Z",
     "iopub.status.idle": "2025-07-19T17:40:05.513049Z",
     "shell.execute_reply": "2025-07-19T17:40:05.512405Z"
    }
   },
   "outputs": [],
   "source": [
    "# TODO: build and evaluate a model"
   ]
  },
  {
   "cell_type": "markdown",
   "id": "fb8db0d4",
   "metadata": {},
   "source": [
    "### Exercises & Further Reading\n",
    "1. Formulate metrics for success.\n",
    "2. Write functions with docstrings.\n",
    "3. [Kaggle guide](https://www.kaggle.com/learn)"
   ]
  }
 ],
 "metadata": {
  "language_info": {
   "codemirror_mode": {
    "name": "ipython",
    "version": 3
   },
   "file_extension": ".py",
   "mimetype": "text/x-python",
   "name": "python",
   "nbconvert_exporter": "python",
   "pygments_lexer": "ipython3",
   "version": "3.11.12"
  }
 },
 "nbformat": 4,
 "nbformat_minor": 5
}
