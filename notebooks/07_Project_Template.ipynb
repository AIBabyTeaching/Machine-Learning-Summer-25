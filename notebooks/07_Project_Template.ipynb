{
 "cells": [
  {
   "cell_type": "markdown",
   "id": "168aa338",
   "metadata": {},
   "source": [
    "# Project Template\n",
    "Use this notebook to outline your capstone project."
   ]
  },
  {
   "cell_type": "markdown",
   "id": "78c6d9bb",
   "metadata": {},
   "source": [
    "## Exercises\n",
    "- Define your problem statement and goals here."
   ]
  }
 ],
 "metadata": {
  "language_info": {
   "codemirror_mode": {
    "name": "ipython",
    "version": 3
   },
   "file_extension": ".py",
   "mimetype": "text/x-python",
   "name": "python",
   "nbconvert_exporter": "python",
   "pygments_lexer": "ipython3",
   "version": "3.11.12"
  }
 },
 "nbformat": 4,
 "nbformat_minor": 5
}
