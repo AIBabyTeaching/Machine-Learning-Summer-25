{
 "cells": [
  {
   "cell_type": "markdown",
   "id": "278b5b1d",
   "metadata": {},
   "source": [
    "# Regression Models"
   ]
  },
  {
   "cell_type": "markdown",
   "id": "4819ae21",
   "metadata": {},
   "source": [
    "Bias--variance tradeoff is key. [wiki](https://en.wikipedia.org/wiki/Bias%E2%80%93variance_tradeoff)"
   ]
  },
  {
   "cell_type": "markdown",
   "id": "linregformula",
   "metadata": {},
   "source": [
    "### Linear Regression\n",
    "We model the target as $$y = Xw + b$$ and minimize the mean squared error:\n",
    "$$\text{MSE}=\\frac{1}{n}\\sum_{i=1}^n (y_i-\\hat{y}_i)^2$$"
   ]
  },
  {
   "cell_type": "code",
   "execution_count": 1,
   "id": "569a0292",
   "metadata": {
    "execution": {
     "iopub.execute_input": "2025-07-19T17:53:59.796139Z",
     "iopub.status.busy": "2025-07-19T17:53:59.795951Z",
     "iopub.status.idle": "2025-07-19T17:54:00.984969Z",
     "shell.execute_reply": "2025-07-19T17:54:00.983173Z"
    }
   },
   "outputs": [
    {
     "data": {
      "text/plain": [
       "0.9999996298908006"
      ]
     },
     "execution_count": 1,
     "metadata": {},
     "output_type": "execute_result"
    }
   ],
   "source": [
    "import pandas as pd\n",
    "from sklearn.model_selection import train_test_split\n",
    "from sklearn.linear_model import LinearRegression\n",
    "X = pd.read_csv('../data/house_prices.csv')\n",
    "y = X.pop('SalePrice')\n",
    "X_train,X_test,y_train,y_test=train_test_split(X,y,random_state=0)\n",
    "model=LinearRegression().fit(X_train,y_train)\n",
    "model.score(X_test,y_test)"
   ]
  },
  {
   "cell_type": "markdown",
   "id": "proscons",
   "metadata": {},
   "source": [
    "### Advantages and Disadvantages\n",
    "**Advantages**:\n",
    "- Simple to interpret coefficients.\n",
    "- Fast to train.\n",
    "**Disadvantages**:\n",
    "- Assumes linear relationships.\n",
    "- Sensitive to outliers."
   ]
  },
  {
   "cell_type": "markdown",
   "id": "3daf446a",
   "metadata": {},
   "source": [
    "### Usage Example"
   ]
  },
  {
   "cell_type": "code",
   "execution_count": 2,
   "id": "8871b42f",
   "metadata": {
    "execution": {
     "iopub.execute_input": "2025-07-19T17:54:01.069466Z",
     "iopub.status.busy": "2025-07-19T17:54:01.049018Z",
     "iopub.status.idle": "2025-07-19T17:54:01.149882Z",
     "shell.execute_reply": "2025-07-19T17:54:01.146305Z"
    }
   },
   "outputs": [
    {
     "data": {
      "text/plain": [
       "array([202.22093264, -12.19762234])"
      ]
     },
     "execution_count": 2,
     "metadata": {},
     "output_type": "execute_result"
    }
   ],
   "source": [
    "model.predict(X_test.iloc[:2])"
   ]
  },
  {
   "cell_type": "markdown",
   "id": "48c00ff9",
   "metadata": {},
   "source": [
    "### Exercises & Further Reading\n",
    "1. Add Ridge/Lasso.\n",
    "2. Perform cross validation.\n",
    "3. [sklearn linear models](https://scikit-learn.org/stable/modules/linear_model.html)"
   ]
  }
 ],
 "metadata": {
  "language_info": {
   "codemirror_mode": {
    "name": "ipython",
    "version": 3
   },
   "file_extension": ".py",
   "mimetype": "text/x-python",
   "name": "python",
   "nbconvert_exporter": "python",
   "pygments_lexer": "ipython3",
   "version": "3.11.12"
  }
 },
 "nbformat": 4,
 "nbformat_minor": 5
}
