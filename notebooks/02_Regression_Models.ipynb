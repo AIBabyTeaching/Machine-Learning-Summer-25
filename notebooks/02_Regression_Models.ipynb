{
 "cells": [
  {
   "cell_type": "markdown",
   "id": "6363268b",
   "metadata": {},
   "source": [
    "# Regression Models\n",
    "Demonstrate multiple regressors and evaluation metrics."
   ]
  },
  {
   "cell_type": "code",
   "execution_count": 1,
   "id": "dd1da7ac",
   "metadata": {
    "execution": {
     "iopub.execute_input": "2025-07-19T17:23:21.300459Z",
     "iopub.status.busy": "2025-07-19T17:23:21.300235Z",
     "iopub.status.idle": "2025-07-19T17:23:22.135222Z",
     "shell.execute_reply": "2025-07-19T17:23:22.134249Z"
    }
   },
   "outputs": [],
   "source": [
    "\n",
    "from sklearn.linear_model import LinearRegression, Ridge, Lasso  # https://scikit-learn.org/stable/modules/generated/sklearn.linear_model.LinearRegression.html\n",
    "from sklearn.tree import DecisionTreeRegressor  # https://scikit-learn.org/stable/modules/generated/sklearn.tree.DecisionTreeRegressor.html\n",
    "from sklearn.ensemble import RandomForestRegressor  # https://scikit-learn.org/stable/modules/generated/sklearn.ensemble.RandomForestRegressor.html\n",
    "from sklearn.metrics import mean_absolute_error, mean_squared_error, r2_score  # https://scikit-learn.org/stable/modules/model_evaluation.html\n",
    "from sklearn.model_selection import GridSearchCV  # https://scikit-learn.org/stable/modules/generated/sklearn.model_selection.GridSearchCV.html\n",
    "import pandas as pd\n"
   ]
  },
  {
   "cell_type": "code",
   "execution_count": 2,
   "id": "ce0e645c",
   "metadata": {
    "execution": {
     "iopub.execute_input": "2025-07-19T17:23:22.139245Z",
     "iopub.status.busy": "2025-07-19T17:23:22.138878Z",
     "iopub.status.idle": "2025-07-19T17:23:26.070575Z",
     "shell.execute_reply": "2025-07-19T17:23:26.069967Z"
    }
   },
   "outputs": [
    {
     "data": {
      "text/plain": [
       "(20.11915556495161, 683.9705114013398, 0.9771401353342037)"
      ]
     },
     "execution_count": 2,
     "metadata": {},
     "output_type": "execute_result"
    }
   ],
   "source": [
    "\n",
    "X = pd.read_csv('../data/house_prices.csv')\n",
    "X_train = X.iloc[:, :-1]\n",
    "y_train = X['SalePrice']\n",
    "model = RandomForestRegressor()\n",
    "params = {'n_estimators': [50, 100]}\n",
    "search = GridSearchCV(model, params)\n",
    "search.fit(X_train, y_train)\n",
    "preds = search.predict(X_train)\n",
    "mean_absolute_error(y_train, preds), mean_squared_error(y_train, preds), r2_score(y_train, preds)\n"
   ]
  },
  {
   "cell_type": "markdown",
   "id": "007984d7",
   "metadata": {},
   "source": [
    "## Exercises\n",
    "- Evaluate models using cross-validation.\n"
   ]
  }
 ],
 "metadata": {
  "language_info": {
   "codemirror_mode": {
    "name": "ipython",
    "version": 3
   },
   "file_extension": ".py",
   "mimetype": "text/x-python",
   "name": "python",
   "nbconvert_exporter": "python",
   "pygments_lexer": "ipython3",
   "version": "3.11.12"
  }
 },
 "nbformat": 4,
 "nbformat_minor": 5
}
