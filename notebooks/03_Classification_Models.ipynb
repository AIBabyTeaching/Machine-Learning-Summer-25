{
 "cells": [
  {
   "cell_type": "markdown",
   "id": "0a3e45b3",
   "metadata": {},
   "source": [
    "# Classification Models\n",
    "Various algorithms and evaluation metrics."
   ]
  },
  {
   "cell_type": "code",
   "execution_count": 1,
   "id": "52b8d8b8",
   "metadata": {
    "execution": {
     "iopub.execute_input": "2025-07-19T17:23:27.362701Z",
     "iopub.status.busy": "2025-07-19T17:23:27.362532Z",
     "iopub.status.idle": "2025-07-19T17:23:27.369713Z",
     "shell.execute_reply": "2025-07-19T17:23:27.368261Z"
    }
   },
   "outputs": [],
   "source": [
    "import sys\n",
    "sys.path.append('..')"
   ]
  },
  {
   "cell_type": "code",
   "execution_count": 2,
   "id": "33d70e59",
   "metadata": {
    "execution": {
     "iopub.execute_input": "2025-07-19T17:23:27.371568Z",
     "iopub.status.busy": "2025-07-19T17:23:27.371394Z",
     "iopub.status.idle": "2025-07-19T17:23:28.566874Z",
     "shell.execute_reply": "2025-07-19T17:23:28.565855Z"
    }
   },
   "outputs": [],
   "source": [
    "\n",
    "import pandas as pd\n",
    "from sklearn.linear_model import LogisticRegression  # https://scikit-learn.org/stable/modules/generated/sklearn.linear_model.LogisticRegression.html\n",
    "from sklearn.neighbors import KNeighborsClassifier  # https://scikit-learn.org/stable/modules/generated/sklearn.neighbors.KNeighborsClassifier.html\n",
    "from sklearn.svm import SVC  # https://scikit-learn.org/stable/modules/generated/sklearn.svm.SVC.html\n",
    "from sklearn.naive_bayes import GaussianNB  # https://scikit-learn.org/stable/modules/generated/sklearn.naive_bayes.GaussianNB.html\n",
    "from sklearn.ensemble import RandomForestClassifier  # https://scikit-learn.org/stable/modules/generated/sklearn.ensemble.RandomForestClassifier.html\n",
    "from sklearn.metrics import precision_score, recall_score, f1_score, roc_auc_score  # https://scikit-learn.org/stable/modules/model_evaluation.html\n",
    "from utils.plotting import plot_confusion\n"
   ]
  },
  {
   "cell_type": "code",
   "execution_count": 3,
   "id": "b658faed",
   "metadata": {
    "execution": {
     "iopub.execute_input": "2025-07-19T17:23:28.571079Z",
     "iopub.status.busy": "2025-07-19T17:23:28.570550Z",
     "iopub.status.idle": "2025-07-19T17:23:28.813872Z",
     "shell.execute_reply": "2025-07-19T17:23:28.813383Z"
    }
   },
   "outputs": [
    {
     "data": {
      "image/png": "[encoded data removed]",
      "text/plain": [
       "<Figure size 640x480 with 2 Axes>"
      ]
     },
     "metadata": {},
     "output_type": "display_data"
    },
    {
     "data": {
      "text/plain": [
       "(1.0, 1.0, 1.0)"
      ]
     },
     "execution_count": 3,
     "metadata": {},
     "output_type": "execute_result"
    }
   ],
   "source": [
    "\n",
    "data = pd.read_csv('../data/moons.csv')\n",
    "X = data[['Feature1', 'Feature2']]\n",
    "y = data['Label']\n",
    "clf = RandomForestClassifier()\n",
    "clf.fit(X, y)\n",
    "y_pred = clf.predict(X)\n",
    "plot_confusion(y, y_pred)\n",
    "precision_score(y, y_pred), recall_score(y, y_pred), f1_score(y, y_pred)\n"
   ]
  },
  {
   "cell_type": "markdown",
   "id": "4929416b",
   "metadata": {},
   "source": [
    "## Exercises\n",
    "- Try KNN and SVM on the same dataset.\n"
   ]
  }
 ],
 "metadata": {
  "language_info": {
   "codemirror_mode": {
    "name": "ipython",
    "version": 3
   },
   "file_extension": ".py",
   "mimetype": "text/x-python",
   "name": "python",
   "nbconvert_exporter": "python",
   "pygments_lexer": "ipython3",
   "version": "3.11.12"
  }
 },
 "nbformat": 4,
 "nbformat_minor": 5
}
