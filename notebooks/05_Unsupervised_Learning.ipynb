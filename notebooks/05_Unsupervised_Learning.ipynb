{
 "cells": [
  {
   "cell_type": "markdown",
   "id": "fac8ee88",
   "metadata": {},
   "source": [
    "# Unsupervised Learning"
   ]
  },
  {
   "cell_type": "markdown",
   "id": "a26af87e",
   "metadata": {},
   "source": [
    "Clustering vs dimensionality reduction."
   ]
  },
  {
   "cell_type": "markdown",
   "id": "kmeansobj",
   "metadata": {},
   "source": [
    "### Clustering and DR\n",
    "k-Means minimizes $$\\sum_i ||x_i - c_{z_i}||^2$$.\n",
    "PCA seeks directions of maximal variance."
   ]
  },
  {
   "cell_type": "markdown",
   "id": "unsupadv",
   "metadata": {},
   "source": [
    "### Advantages and Disadvantages\n",
    "**k-Means**: simple but assumes spherical clusters.\n",
    "**DBSCAN**: handles arbitrary shapes but sensitive to parameters."
   ]
  },
  {
   "cell_type": "code",
   "execution_count": 1,
   "id": "e1cd5723",
   "metadata": {
    "execution": {
     "iopub.execute_input": "2025-07-19T17:54:14.364177Z",
     "iopub.status.busy": "2025-07-19T17:54:14.364006Z",
     "iopub.status.idle": "2025-07-19T17:54:15.194098Z",
     "shell.execute_reply": "2025-07-19T17:54:15.193528Z"
    }
   },
   "outputs": [
    {
     "data": {
      "text/plain": [
       "array([[ 0.48614471, -0.45739385],\n",
       "       [ 0.24720623,  0.74301456],\n",
       "       [ 0.79162163, -0.49702093]])"
      ]
     },
     "execution_count": 1,
     "metadata": {},
     "output_type": "execute_result"
    }
   ],
   "source": [
    "import pandas as pd\n",
    "from sklearn.cluster import KMeans\n",
    "from sklearn.decomposition import PCA\n",
    "X = pd.read_csv('../data/moons.csv')\n",
    "y = X.pop('Label')\n",
    "km = KMeans(n_clusters=2).fit(X)\n",
    "PCA(n_components=2).fit_transform(X)[:3]"
   ]
  },
  {
   "cell_type": "markdown",
   "metadata": {},
   "source": [
    "### Evaluation with Silhouette Score\n",
    "The silhouette coefficient for a sample is:\n",
    "$$s = \\frac{b-a}{\\max(a,b)}$$\n",
    "where $a$ is mean intra-cluster distance and $b$ the mean nearest-cluster distance."
   ]
  },
  {
   "cell_type": "code",
   "metadata": {},
   "source": [
    "from sklearn.metrics import silhouette_score\n",
    "silhouette_score(X, km.labels_)"
   ]
  },
  {
   "cell_type": "markdown",
   "id": "e53208fc",
   "metadata": {},
   "source": [
    "### Exercises & Further Reading\n",
    "1. Adjust k in k-Means.\n",
    "2. Try DBSCAN.\n",
    "3. [sklearn clustering](https://scikit-learn.org/stable/modules/clustering.html)"
   ]
  }
 ],
 "metadata": {
  "language_info": {
   "codemirror_mode": {
    "name": "ipython",
    "version": 3
   },
   "file_extension": ".py",
   "mimetype": "text/x-python",
   "name": "python",
   "nbconvert_exporter": "python",
   "pygments_lexer": "ipython3",
   "version": "3.11.12"
  }
 },
 "nbformat": 4,
 "nbformat_minor": 5
}