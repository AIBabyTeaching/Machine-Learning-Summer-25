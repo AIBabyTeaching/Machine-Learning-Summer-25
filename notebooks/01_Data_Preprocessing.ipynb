{
 "cells": [
  {
   "cell_type": "markdown",
   "id": "a20f62e6",
   "metadata": {},
   "source": [
    "# Data Preprocessing\n",
    "Handle missing values, encode categoricals and scale features."
   ]
  },
  {
   "cell_type": "code",
   "execution_count": 1,
   "id": "138c21b9",
   "metadata": {
    "execution": {
     "iopub.execute_input": "2025-07-19T17:23:18.932952Z",
     "iopub.status.busy": "2025-07-19T17:23:18.932786Z",
     "iopub.status.idle": "2025-07-19T17:23:19.957912Z",
     "shell.execute_reply": "2025-07-19T17:23:19.957226Z"
    }
   },
   "outputs": [],
   "source": [
    "\n",
    "import pandas as pd\n",
    "from sklearn.impute import SimpleImputer  # https://scikit-learn.org/stable/modules/generated/sklearn.impute.SimpleImputer.html\n",
    "from sklearn.preprocessing import OneHotEncoder  # https://scikit-learn.org/stable/modules/generated/sklearn.preprocessing.OneHotEncoder.html\n",
    "from sklearn.preprocessing import StandardScaler, MinMaxScaler  # https://scikit-learn.org/stable/modules/generated/sklearn.preprocessing.StandardScaler.html\n",
    "from sklearn.compose import ColumnTransformer  # https://scikit-learn.org/stable/modules/generated/sklearn.compose.ColumnTransformer.html\n",
    "from sklearn.pipeline import Pipeline  # https://scikit-learn.org/stable/modules/generated/sklearn.pipeline.Pipeline.html\n"
   ]
  },
  {
   "cell_type": "code",
   "execution_count": 2,
   "id": "50fd208f",
   "metadata": {
    "execution": {
     "iopub.execute_input": "2025-07-19T17:23:19.962373Z",
     "iopub.status.busy": "2025-07-19T17:23:19.962118Z",
     "iopub.status.idle": "2025-07-19T17:23:19.984802Z",
     "shell.execute_reply": "2025-07-19T17:23:19.981443Z"
    }
   },
   "outputs": [
    {
     "data": {
      "text/plain": [
       "array([[-1.34584062, -1.03274708,  2.2987294 ,  0.13847038, -1.29692062,\n",
       "        -0.69390585,  0.09128125,  0.81322727],\n",
       "       [ 0.09943212, -0.84653693,  1.88566917,  0.31005175, -1.040968  ,\n",
       "        -2.05324327,  1.0209649 , -0.3394965 ],\n",
       "       [ 1.29460853, -1.58351741, -0.8919957 ,  0.46642202, -0.19383109,\n",
       "         0.93945847,  1.62750294, -0.6013311 ],\n",
       "       [-2.89366289,  1.06117721, -1.53040308, -0.47697408,  0.52949315,\n",
       "        -2.39344398, -2.37626618,  1.28708642],\n",
       "       [-0.35915543, -0.61821494,  0.86101297, -0.74514579, -0.07295679,\n",
       "         1.74747041,  2.05084179, -0.60203537]])"
      ]
     },
     "execution_count": 2,
     "metadata": {},
     "output_type": "execute_result"
    }
   ],
   "source": [
    "\n",
    "df = pd.read_csv('../data/house_prices.csv')\n",
    "num_features = df.columns[:-1]\n",
    "num_transformer = Pipeline([\n",
    "    ('imputer', SimpleImputer(strategy='median')),\n",
    "    ('scaler', StandardScaler())\n",
    "])\n",
    "preprocessor = ColumnTransformer([\n",
    "    ('num', num_transformer, num_features)\n",
    "])\n",
    "preprocessed = preprocessor.fit_transform(df)\n",
    "preprocessed[:5]\n"
   ]
  },
  {
   "cell_type": "markdown",
   "id": "94fd1ffc",
   "metadata": {},
   "source": [
    "## Exercises\n",
    "- Try `MinMaxScaler` instead of `StandardScaler`.\n"
   ]
  }
 ],
 "metadata": {
  "language_info": {
   "codemirror_mode": {
    "name": "ipython",
    "version": 3
   },
   "file_extension": ".py",
   "mimetype": "text/x-python",
   "name": "python",
   "nbconvert_exporter": "python",
   "pygments_lexer": "ipython3",
   "version": "3.11.12"
  }
 },
 "nbformat": 4,
 "nbformat_minor": 5
}
