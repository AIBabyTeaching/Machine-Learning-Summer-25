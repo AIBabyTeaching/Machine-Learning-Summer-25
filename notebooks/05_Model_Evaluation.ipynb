{
 "cells": [
  {
   "cell_type": "markdown",
   "id": "2ebde2da",
   "metadata": {},
   "source": [
    "# Model Evaluation\n",
    "Best practices for splitting data and monitoring overfitting."
   ]
  },
  {
   "cell_type": "code",
   "execution_count": 1,
   "id": "934d6e06",
   "metadata": {
    "execution": {
     "iopub.execute_input": "2025-07-19T17:23:36.534495Z",
     "iopub.status.busy": "2025-07-19T17:23:36.533715Z",
     "iopub.status.idle": "2025-07-19T17:23:37.437051Z",
     "shell.execute_reply": "2025-07-19T17:23:37.436228Z"
    }
   },
   "outputs": [],
   "source": [
    "\n",
    "from sklearn.model_selection import train_test_split, learning_curve  # https://scikit-learn.org/stable/modules/generated/sklearn.model_selection.train_test_split.html\n",
    "from sklearn.ensemble import RandomForestRegressor\n",
    "import pandas as pd\n"
   ]
  },
  {
   "cell_type": "code",
   "execution_count": 2,
   "id": "5c5f06c1",
   "metadata": {
    "execution": {
     "iopub.execute_input": "2025-07-19T17:23:37.441299Z",
     "iopub.status.busy": "2025-07-19T17:23:37.440990Z",
     "iopub.status.idle": "2025-07-19T17:23:44.545955Z",
     "shell.execute_reply": "2025-07-19T17:23:44.544701Z"
    }
   },
   "outputs": [
    {
     "data": {
      "text/plain": [
       "array([ 80, 260, 440, 620, 800])"
      ]
     },
     "execution_count": 2,
     "metadata": {},
     "output_type": "execute_result"
    }
   ],
   "source": [
    "\n",
    "data = pd.read_csv('../data/house_prices.csv')\n",
    "X = data.iloc[:, :-1]\n",
    "y = data['SalePrice']\n",
    "X_train, X_test, y_train, y_test = train_test_split(X, y, test_size=0.2, random_state=42)\n",
    "model = RandomForestRegressor()\n",
    "train_sizes, train_scores, test_scores = learning_curve(model, X, y, cv=5)\n",
    "train_sizes[:5]\n"
   ]
  },
  {
   "cell_type": "markdown",
   "id": "640d4568",
   "metadata": {},
   "source": [
    "## Exercises\n",
    "- Plot learning curves to detect overfitting.\n"
   ]
  }
 ],
 "metadata": {
  "language_info": {
   "codemirror_mode": {
    "name": "ipython",
    "version": 3
   },
   "file_extension": ".py",
   "mimetype": "text/x-python",
   "name": "python",
   "nbconvert_exporter": "python",
   "pygments_lexer": "ipython3",
   "version": "3.11.12"
  }
 },
 "nbformat": 4,
 "nbformat_minor": 5
}
