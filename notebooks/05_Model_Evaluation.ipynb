{
 "cells": [
  {
   "cell_type": "markdown",
   "id": "bc617d1f",
   "metadata": {},
   "source": [
    "# Model Evaluation"
   ]
  },
  {
   "cell_type": "markdown",
   "id": "5b2b0971",
   "metadata": {},
   "source": [
    "Train/val/test split rationale."
   ]
  },
  {
   "cell_type": "markdown",
   "id": "rmse",
   "metadata": {},
   "source": [
    "### Error Metrics\n",
    "Root Mean Squared Error: $$RMSE=\\sqrt{\\frac{1}{n}\\sum_i (y_i-\\hat{y}_i)^2}$$"
   ]
  },
  {
   "cell_type": "markdown",
   "id": "evalsteps",
   "metadata": {},
   "source": [
    "### Evaluation Steps\n",
    "1. Split data into train, validation, and test.\n",
    "2. Train on the training set.\n",
    "3. Tune on validation.\n",
    "4. Report final metrics on the test set."
   ]
  },
  {
   "cell_type": "code",
   "execution_count": 1,
   "id": "4a36bea9",
   "metadata": {
    "execution": {
     "iopub.execute_input": "2025-07-19T17:54:19.444932Z",
     "iopub.status.busy": "2025-07-19T17:54:19.444656Z",
     "iopub.status.idle": "2025-07-19T17:54:20.261587Z",
     "shell.execute_reply": "2025-07-19T17:54:20.260403Z"
    }
   },
   "outputs": [],
   "source": [
    "from sklearn.model_selection import learning_curve\n"
   ]
  },
  {
   "cell_type": "markdown",
   "id": "b5dfdb3f",
   "metadata": {},
   "source": [
    "### Exercises & Further Reading\n",
    "1. Plot learning curves.\n",
    "2. Explore SHAP.\n",
    "3. [sklearn model evaluation](https://scikit-learn.org/stable/modules/model_evaluation.html)"
   ]
  }
 ],
 "metadata": {
  "language_info": {
   "codemirror_mode": {
    "name": "ipython",
    "version": 3
   },
   "file_extension": ".py",
   "mimetype": "text/x-python",
   "name": "python",
   "nbconvert_exporter": "python",
   "pygments_lexer": "ipython3",
   "version": "3.11.12"
  }
 },
 "nbformat": 4,
 "nbformat_minor": 5
}
