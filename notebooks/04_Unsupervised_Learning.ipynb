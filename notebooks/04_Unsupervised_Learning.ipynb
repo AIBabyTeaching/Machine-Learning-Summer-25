{
 "cells": [
  {
   "cell_type": "markdown",
   "id": "fac8ee88",
   "metadata": {},
   "source": [
    "# Unsupervised Learning"
   ]
  },
  {
   "cell_type": "markdown",
   "id": "a26af87e",
   "metadata": {},
   "source": [
    "Clustering vs dimensionality reduction."
   ]
  },
  {
   "cell_type": "code",
   "execution_count": 1,
   "id": "e1cd5723",
   "metadata": {
    "execution": {
     "iopub.execute_input": "2025-07-19T17:39:44.336751Z",
     "iopub.status.busy": "2025-07-19T17:39:44.336466Z",
     "iopub.status.idle": "2025-07-19T17:39:45.352863Z",
     "shell.execute_reply": "2025-07-19T17:39:45.352148Z"
    }
   },
   "outputs": [
    {
     "data": {
      "text/plain": [
       "array([[ 0.48614471, -0.45739385],\n",
       "       [ 0.24720623,  0.74301456],\n",
       "       [ 0.79162163, -0.49702093]])"
      ]
     },
     "execution_count": 1,
     "metadata": {},
     "output_type": "execute_result"
    }
   ],
   "source": [
    "import pandas as pd\n",
    "from sklearn.cluster import KMeans\n",
    "from sklearn.decomposition import PCA\n",
    "X = pd.read_csv('../data/moons.csv')\n",
    "y = X.pop('Label')\n",
    "km = KMeans(n_clusters=2).fit(X)\n",
    "PCA(n_components=2).fit_transform(X)[:3]"
   ]
  },
  {
   "cell_type": "markdown",
   "id": "e53208fc",
   "metadata": {},
   "source": [
    "### Exercises & Further Reading\n",
    "1. Adjust k in k-Means.\n",
    "2. Try DBSCAN.\n",
    "3. [sklearn clustering](https://scikit-learn.org/stable/modules/clustering.html)"
   ]
  }
 ],
 "metadata": {
  "language_info": {
   "codemirror_mode": {
    "name": "ipython",
    "version": 3
   },
   "file_extension": ".py",
   "mimetype": "text/x-python",
   "name": "python",
   "nbconvert_exporter": "python",
   "pygments_lexer": "ipython3",
   "version": "3.11.12"
  }
 },
 "nbformat": 4,
 "nbformat_minor": 5
}
