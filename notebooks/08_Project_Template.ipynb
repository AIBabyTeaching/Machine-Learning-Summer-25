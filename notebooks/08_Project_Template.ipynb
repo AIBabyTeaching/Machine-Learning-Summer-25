{
 "cells": [
  {
   "cell_type": "markdown",
   "id": "e36cf515",
   "metadata": {},
   "source": [
    "# Project Template"
   ]
  },
  {
   "cell_type": "markdown",
   "id": "89bbb5ae",
   "metadata": {},
   "source": [
    "Describe your project: dataset choice, modeling steps, evaluation criteria."
   ]
  },
  {
   "cell_type": "markdown",
   "id": "projectsteps",
   "metadata": {},
   "source": [
    "### Project Steps\n",
    "1. Define the problem and success metric.\n",
    "2. Acquire or choose a dataset.\n",
    "3. Clean and explore the data.\n",
    "4. Train baseline models and iterate."
   ]
  },
  {
   "cell_type": "code",
   "execution_count": 1,
   "id": "c381b537",
   "metadata": {
    "execution": {
     "iopub.execute_input": "2025-07-19T17:54:31.553835Z",
     "iopub.status.busy": "2025-07-19T17:54:31.553416Z",
     "iopub.status.idle": "2025-07-19T17:54:31.557375Z",
     "shell.execute_reply": "2025-07-19T17:54:31.556817Z"
    }
   },
   "outputs": [],
   "source": [
    "# TODO: load your data here"
   ]
  },
  {
   "cell_type": "code",
   "execution_count": 2,
   "id": "0de3f07e",
   "metadata": {
    "execution": {
     "iopub.execute_input": "2025-07-19T17:54:31.559517Z",
     "iopub.status.busy": "2025-07-19T17:54:31.559152Z",
     "iopub.status.idle": "2025-07-19T17:54:31.562466Z",
     "shell.execute_reply": "2025-07-19T17:54:31.561970Z"
    }
   },
   "outputs": [],
   "source": [
    "# TODO: preprocess the data"
   ]
  },
  {
   "cell_type": "code",
   "execution_count": 3,
   "id": "8ab67c29",
   "metadata": {
    "execution": {
     "iopub.execute_input": "2025-07-19T17:54:31.564292Z",
     "iopub.status.busy": "2025-07-19T17:54:31.563985Z",
     "iopub.status.idle": "2025-07-19T17:54:31.567518Z",
     "shell.execute_reply": "2025-07-19T17:54:31.566705Z"
    }
   },
   "outputs": [],
   "source": [
    "# TODO: build and evaluate a model"
   ]
  },
  {
   "cell_type": "markdown",
   "id": "fb8db0d4",
   "metadata": {},
   "source": [
    "### Exercises & Further Reading\n",
    "1. Formulate metrics for success.\n",
    "2. Write functions with docstrings.\n",
    "3. [Kaggle guide](https://www.kaggle.com/learn)"
   ]
  }
 ],
 "metadata": {
  "language_info": {
   "codemirror_mode": {
    "name": "ipython",
    "version": 3
   },
   "file_extension": ".py",
   "mimetype": "text/x-python",
   "name": "python",
   "nbconvert_exporter": "python",
   "pygments_lexer": "ipython3",
   "version": "3.11.12"
  }
 },
 "nbformat": 4,
 "nbformat_minor": 5
}
