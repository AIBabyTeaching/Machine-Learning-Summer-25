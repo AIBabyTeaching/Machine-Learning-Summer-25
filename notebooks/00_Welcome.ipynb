{
 "cells": [
  {
   "cell_type": "markdown",
   "id": "2babd5e3",
   "metadata": {},
   "source": [
    "# Machine Learning Course 2025\n",
    "## Welcome"
   ]
  },
  {
   "cell_type": "markdown",
   "id": "566ef8b4",
   "metadata": {},
   "source": [
    "### Why a reproducible environment matters\n",
    "- ensures experiments can be repeated\n",
    "- easier collaboration\n",
    "- see [virtualenv](https://docs.python.org/3/library/venv.html) vs [conda](https://docs.conda.io/en/latest/)"
   ]
  },
  {
   "cell_type": "markdown",
   "id": "setupsteps",
   "metadata": {},
   "source": [
    "### Setup Steps\n",
    "1. Install conda or mamba.\n",
    "2. Run `conda env create -f environment.yml`.\n",
    "3. Activate with `conda activate machine-learning-course-2025`.\n",
    "4. Launch JupyterLab via `jupyter lab`."
   ]
  },
  {
   "cell_type": "markdown",
   "id": "condavspip",
   "metadata": {},
   "source": [
    "### Conda vs pip\n",
    "**Advantages of conda**:\n",
    "- Manages binary dependencies\n",
    "- Handles environment isolation\n",
    "**Disadvantages**:\n",
    "- Larger downloads\n",
    "- Slightly slower than `pip` for installs"
   ]
  },
  {
   "cell_type": "markdown",
   "id": "reprodeq",
   "metadata": {},
   "source": [
    "### Reproducibility Formula\n",
    "$$R = f(\text{code}, \text{data}, \text{environment})$$"
   ]
  },
  {
   "cell_type": "markdown",
   "id": "539ef2ad",
   "metadata": {},
   "source": [
    "### Types of Data\n",
    "- **Structured**: numeric and categorical tables.\n",
    "- **Unstructured**: text, images, audio.\n",
    "- **Time series**: ordered measurements over time.\n",
    "- **Other domains**: graphs, spatial data, etc.\n"
   ]
  },
  {
   "cell_type": "markdown",
   "id": "b3bd3433",
   "metadata": {},
   "source": [
    "### Course Pipeline Overview\n",
    "1. Prepare and clean data.\n",
    "2. Preprocess features (scaling, encoding).\n",
    "3. Train regression and classification models.\n",
    "4. Evaluate using cross validation.\n",
    "5. Deploy and monitor models.\n"
   ]
  },
  {
   "cell_type": "code",
   "execution_count": 1,
   "id": "9c2d0b18",
   "metadata": {
    "execution": {
     "iopub.execute_input": "2025-07-19T17:53:48.546949Z",
     "iopub.status.busy": "2025-07-19T17:53:48.546091Z",
     "iopub.status.idle": "2025-07-19T17:53:48.854309Z",
     "shell.execute_reply": "2025-07-19T17:53:48.852920Z"
    }
   },
   "outputs": [
    {
     "name": "stdout",
     "output_type": "stream",
     "text": [
      "Python 3.11.12 (main, Jul  9 2025, 20:27:46) [GCC 13.3.0]\n",
      "pandas 2.3.1\n"
     ]
    }
   ],
   "source": [
    "# Display package versions\n",
    "import sys, pandas as pd, numpy as np\n",
    "print(\"Python\", sys.version)\n",
    "print(\"pandas\", pd.__version__)"
   ]
  },
  {
   "cell_type": "markdown",
   "id": "55f1a80c",
   "metadata": {},
   "source": [
    "Load and preview data:"
   ]
  },
  {
   "cell_type": "code",
   "execution_count": 2,
   "id": "f432f73e",
   "metadata": {
    "execution": {
     "iopub.execute_input": "2025-07-19T17:53:48.857940Z",
     "iopub.status.busy": "2025-07-19T17:53:48.857309Z",
     "iopub.status.idle": "2025-07-19T17:53:48.872951Z",
     "shell.execute_reply": "2025-07-19T17:53:48.871840Z"
    }
   },
   "outputs": [
    {
     "data": {
      "text/html": [
       "<div>\n",
       "<style scoped>\n",
       "    .dataframe tbody tr th:only-of-type {\n",
       "        vertical-align: middle;\n",
       "    }\n",
       "\n",
       "    .dataframe tbody tr th {\n",
       "        vertical-align: top;\n",
       "    }\n",
       "\n",
       "    .dataframe thead th {\n",
       "        text-align: right;\n",
       "    }\n",
       "</style>\n",
       "<table border=\"1\" class=\"dataframe\">\n",
       "  <thead>\n",
       "    <tr style=\"text-align: right;\">\n",
       "      <th></th>\n",
       "      <th>sepal length (cm)</th>\n",
       "      <th>sepal width (cm)</th>\n",
       "      <th>petal length (cm)</th>\n",
       "      <th>petal width (cm)</th>\n",
       "      <th>class</th>\n",
       "    </tr>\n",
       "  </thead>\n",
       "  <tbody>\n",
       "    <tr>\n",
       "      <th>0</th>\n",
       "      <td>5.1</td>\n",
       "      <td>3.5</td>\n",
       "      <td>1.4</td>\n",
       "      <td>0.2</td>\n",
       "      <td>0</td>\n",
       "    </tr>\n",
       "    <tr>\n",
       "      <th>1</th>\n",
       "      <td>4.9</td>\n",
       "      <td>3.0</td>\n",
       "      <td>1.4</td>\n",
       "      <td>0.2</td>\n",
       "      <td>0</td>\n",
       "    </tr>\n",
       "    <tr>\n",
       "      <th>2</th>\n",
       "      <td>4.7</td>\n",
       "      <td>3.2</td>\n",
       "      <td>1.3</td>\n",
       "      <td>0.2</td>\n",
       "      <td>0</td>\n",
       "    </tr>\n",
       "    <tr>\n",
       "      <th>3</th>\n",
       "      <td>4.6</td>\n",
       "      <td>3.1</td>\n",
       "      <td>1.5</td>\n",
       "      <td>0.2</td>\n",
       "      <td>0</td>\n",
       "    </tr>\n",
       "    <tr>\n",
       "      <th>4</th>\n",
       "      <td>5.0</td>\n",
       "      <td>3.6</td>\n",
       "      <td>1.4</td>\n",
       "      <td>0.2</td>\n",
       "      <td>0</td>\n",
       "    </tr>\n",
       "  </tbody>\n",
       "</table>\n",
       "</div>"
      ],
      "text/plain": [
       "   sepal length (cm)  sepal width (cm)  petal length (cm)  petal width (cm)  \\\n",
       "0                5.1               3.5                1.4               0.2   \n",
       "1                4.9               3.0                1.4               0.2   \n",
       "2                4.7               3.2                1.3               0.2   \n",
       "3                4.6               3.1                1.5               0.2   \n",
       "4                5.0               3.6                1.4               0.2   \n",
       "\n",
       "   class  \n",
       "0      0  \n",
       "1      0  \n",
       "2      0  \n",
       "3      0  \n",
       "4      0  "
      ]
     },
     "execution_count": 2,
     "metadata": {},
     "output_type": "execute_result"
    }
   ],
   "source": [
    "# Load example Iris dataset\n",
    "import pandas as pd\n",
    "df = pd.read_csv('../data/iris.csv')\n",
    "df.head()"
   ]
  },
  {
   "cell_type": "code",
   "execution_count": 3,
   "id": "4faa143a",
   "metadata": {
    "execution": {
     "iopub.execute_input": "2025-07-19T17:53:48.875068Z",
     "iopub.status.busy": "2025-07-19T17:53:48.874492Z",
     "iopub.status.idle": "2025-07-19T17:53:48.904901Z",
     "shell.execute_reply": "2025-07-19T17:53:48.904135Z"
    }
   },
   "outputs": [
    {
     "data": {
      "text/html": [
       "<div>\n",
       "<style scoped>\n",
       "    .dataframe tbody tr th:only-of-type {\n",
       "        vertical-align: middle;\n",
       "    }\n",
       "\n",
       "    .dataframe tbody tr th {\n",
       "        vertical-align: top;\n",
       "    }\n",
       "\n",
       "    .dataframe thead th {\n",
       "        text-align: right;\n",
       "    }\n",
       "</style>\n",
       "<table border=\"1\" class=\"dataframe\">\n",
       "  <thead>\n",
       "    <tr style=\"text-align: right;\">\n",
       "      <th></th>\n",
       "      <th>sepal length (cm)</th>\n",
       "      <th>sepal width (cm)</th>\n",
       "      <th>petal length (cm)</th>\n",
       "      <th>petal width (cm)</th>\n",
       "      <th>class</th>\n",
       "    </tr>\n",
       "  </thead>\n",
       "  <tbody>\n",
       "    <tr>\n",
       "      <th>count</th>\n",
       "      <td>150.000000</td>\n",
       "      <td>150.000000</td>\n",
       "      <td>150.000000</td>\n",
       "      <td>150.000000</td>\n",
       "      <td>150.000000</td>\n",
       "    </tr>\n",
       "    <tr>\n",
       "      <th>mean</th>\n",
       "      <td>5.843333</td>\n",
       "      <td>3.057333</td>\n",
       "      <td>3.758000</td>\n",
       "      <td>1.199333</td>\n",
       "      <td>1.000000</td>\n",
       "    </tr>\n",
       "    <tr>\n",
       "      <th>std</th>\n",
       "      <td>0.828066</td>\n",
       "      <td>0.435866</td>\n",
       "      <td>1.765298</td>\n",
       "      <td>0.762238</td>\n",
       "      <td>0.819232</td>\n",
       "    </tr>\n",
       "    <tr>\n",
       "      <th>min</th>\n",
       "      <td>4.300000</td>\n",
       "      <td>2.000000</td>\n",
       "      <td>1.000000</td>\n",
       "      <td>0.100000</td>\n",
       "      <td>0.000000</td>\n",
       "    </tr>\n",
       "    <tr>\n",
       "      <th>25%</th>\n",
       "      <td>5.100000</td>\n",
       "      <td>2.800000</td>\n",
       "      <td>1.600000</td>\n",
       "      <td>0.300000</td>\n",
       "      <td>0.000000</td>\n",
       "    </tr>\n",
       "    <tr>\n",
       "      <th>50%</th>\n",
       "      <td>5.800000</td>\n",
       "      <td>3.000000</td>\n",
       "      <td>4.350000</td>\n",
       "      <td>1.300000</td>\n",
       "      <td>1.000000</td>\n",
       "    </tr>\n",
       "    <tr>\n",
       "      <th>75%</th>\n",
       "      <td>6.400000</td>\n",
       "      <td>3.300000</td>\n",
       "      <td>5.100000</td>\n",
       "      <td>1.800000</td>\n",
       "      <td>2.000000</td>\n",
       "    </tr>\n",
       "    <tr>\n",
       "      <th>max</th>\n",
       "      <td>7.900000</td>\n",
       "      <td>4.400000</td>\n",
       "      <td>6.900000</td>\n",
       "      <td>2.500000</td>\n",
       "      <td>2.000000</td>\n",
       "    </tr>\n",
       "  </tbody>\n",
       "</table>\n",
       "</div>"
      ],
      "text/plain": [
       "       sepal length (cm)  sepal width (cm)  petal length (cm)  \\\n",
       "count         150.000000        150.000000         150.000000   \n",
       "mean            5.843333          3.057333           3.758000   \n",
       "std             0.828066          0.435866           1.765298   \n",
       "min             4.300000          2.000000           1.000000   \n",
       "25%             5.100000          2.800000           1.600000   \n",
       "50%             5.800000          3.000000           4.350000   \n",
       "75%             6.400000          3.300000           5.100000   \n",
       "max             7.900000          4.400000           6.900000   \n",
       "\n",
       "       petal width (cm)       class  \n",
       "count        150.000000  150.000000  \n",
       "mean           1.199333    1.000000  \n",
       "std            0.762238    0.819232  \n",
       "min            0.100000    0.000000  \n",
       "25%            0.300000    0.000000  \n",
       "50%            1.300000    1.000000  \n",
       "75%            1.800000    2.000000  \n",
       "max            2.500000    2.000000  "
      ]
     },
     "execution_count": 3,
     "metadata": {},
     "output_type": "execute_result"
    }
   ],
   "source": [
    "# Summary statistics\n",
    "df.describe()"
   ]
  },
  {
   "cell_type": "code",
   "execution_count": 4,
   "id": "78f0ff1d",
   "metadata": {
    "execution": {
     "iopub.execute_input": "2025-07-19T17:53:48.921198Z",
     "iopub.status.busy": "2025-07-19T17:53:48.919607Z",
     "iopub.status.idle": "2025-07-19T17:53:49.999508Z",
     "shell.execute_reply": "2025-07-19T17:53:49.998697Z"
    }
   },
   "outputs": [
    {
     "data": {
      "image/png": "[encoded data removed]",
      "text/plain": [
       "<Figure size 640x480 with 1 Axes>"
      ]
     },
     "metadata": {},
     "output_type": "display_data"
    }
   ],
   "source": [
    "# Plot distribution of sepal length\n",
    "import matplotlib.pyplot as plt\n",
    "df['sepal length (cm)'].hist()\n",
    "plt.show()"
   ]
  },
  {
   "cell_type": "markdown",
   "id": "9e20bcbf",
   "metadata": {},
   "source": [
    "### Usage Example"
   ]
  },
  {
   "cell_type": "code",
   "execution_count": 5,
   "id": "4f0d7533",
   "metadata": {
    "execution": {
     "iopub.execute_input": "2025-07-19T17:53:50.004810Z",
     "iopub.status.busy": "2025-07-19T17:53:50.003901Z",
     "iopub.status.idle": "2025-07-19T17:53:50.014574Z",
     "shell.execute_reply": "2025-07-19T17:53:50.013532Z"
    }
   },
   "outputs": [
    {
     "data": {
      "text/html": [
       "<div>\n",
       "<style scoped>\n",
       "    .dataframe tbody tr th:only-of-type {\n",
       "        vertical-align: middle;\n",
       "    }\n",
       "\n",
       "    .dataframe tbody tr th {\n",
       "        vertical-align: top;\n",
       "    }\n",
       "\n",
       "    .dataframe thead th {\n",
       "        text-align: right;\n",
       "    }\n",
       "</style>\n",
       "<table border=\"1\" class=\"dataframe\">\n",
       "  <thead>\n",
       "    <tr style=\"text-align: right;\">\n",
       "      <th></th>\n",
       "      <th>sepal length (cm)</th>\n",
       "      <th>sepal width (cm)</th>\n",
       "      <th>petal length (cm)</th>\n",
       "      <th>petal width (cm)</th>\n",
       "      <th>class</th>\n",
       "    </tr>\n",
       "  </thead>\n",
       "  <tbody>\n",
       "    <tr>\n",
       "      <th>0</th>\n",
       "      <td>5.1</td>\n",
       "      <td>3.5</td>\n",
       "      <td>1.4</td>\n",
       "      <td>0.2</td>\n",
       "      <td>0</td>\n",
       "    </tr>\n",
       "    <tr>\n",
       "      <th>1</th>\n",
       "      <td>4.9</td>\n",
       "      <td>3.0</td>\n",
       "      <td>1.4</td>\n",
       "      <td>0.2</td>\n",
       "      <td>0</td>\n",
       "    </tr>\n",
       "    <tr>\n",
       "      <th>2</th>\n",
       "      <td>4.7</td>\n",
       "      <td>3.2</td>\n",
       "      <td>1.3</td>\n",
       "      <td>0.2</td>\n",
       "      <td>0</td>\n",
       "    </tr>\n",
       "    <tr>\n",
       "      <th>3</th>\n",
       "      <td>4.6</td>\n",
       "      <td>3.1</td>\n",
       "      <td>1.5</td>\n",
       "      <td>0.2</td>\n",
       "      <td>0</td>\n",
       "    </tr>\n",
       "    <tr>\n",
       "      <th>4</th>\n",
       "      <td>5.0</td>\n",
       "      <td>3.6</td>\n",
       "      <td>1.4</td>\n",
       "      <td>0.2</td>\n",
       "      <td>0</td>\n",
       "    </tr>\n",
       "  </tbody>\n",
       "</table>\n",
       "</div>"
      ],
      "text/plain": [
       "   sepal length (cm)  sepal width (cm)  petal length (cm)  petal width (cm)  \\\n",
       "0                5.1               3.5                1.4               0.2   \n",
       "1                4.9               3.0                1.4               0.2   \n",
       "2                4.7               3.2                1.3               0.2   \n",
       "3                4.6               3.1                1.5               0.2   \n",
       "4                5.0               3.6                1.4               0.2   \n",
       "\n",
       "   class  \n",
       "0      0  \n",
       "1      0  \n",
       "2      0  \n",
       "3      0  \n",
       "4      0  "
      ]
     },
     "execution_count": 5,
     "metadata": {},
     "output_type": "execute_result"
    }
   ],
   "source": [
    "# Filter class 0 examples\n",
    "df[df['class'] == 0].head()"
   ]
  },
  {
   "cell_type": "markdown",
   "id": "996c6497",
   "metadata": {},
   "source": [
    "### Exercises & Further Reading\n",
    "1. What other datasets come with scikit-learn?\n",
    "2. How would you handle missing values in this data?\n",
    "3. [Pandas tutorial](https://pandas.pydata.org/docs/getting_started/index.html)"
   ]
  }
 ],
 "metadata": {
  "language_info": {
   "codemirror_mode": {
    "name": "ipython",
    "version": 3
   },
   "file_extension": ".py",
   "mimetype": "text/x-python",
   "name": "python",
   "nbconvert_exporter": "python",
   "pygments_lexer": "ipython3",
   "version": "3.11.12"
  }
 },
 "nbformat": 4,
 "nbformat_minor": 5
}
