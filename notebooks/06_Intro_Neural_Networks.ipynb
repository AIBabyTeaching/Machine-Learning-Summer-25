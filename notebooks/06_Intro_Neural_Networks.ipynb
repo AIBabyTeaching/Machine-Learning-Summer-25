{
 "cells": [
  {
   "cell_type": "markdown",
   "id": "b29941e2",
   "metadata": {},
   "source": [
    "# Intro to Neural Networks"
   ]
  },
  {
   "cell_type": "markdown",
   "id": "b27ecebc",
   "metadata": {},
   "source": [
    "From perceptron to MLP."
   ]
  },
  {
   "cell_type": "code",
   "execution_count": 1,
   "id": "3b37d9bb",
   "metadata": {
    "execution": {
     "iopub.execute_input": "2025-07-19T17:39:59.000367Z",
     "iopub.status.busy": "2025-07-19T17:39:58.999963Z",
     "iopub.status.idle": "2025-07-19T17:39:59.965765Z",
     "shell.execute_reply": "2025-07-19T17:39:59.965174Z"
    }
   },
   "outputs": [
    {
     "name": "stderr",
     "output_type": "stream",
     "text": [
      "/root/.pyenv/versions/3.11.12/lib/python3.11/site-packages/sklearn/neural_network/_multilayer_perceptron.py:781: ConvergenceWarning: Stochastic Optimizer: Maximum iterations (1000) reached and the optimization hasn't converged yet.\n",
      "  warnings.warn(\n"
     ]
    },
    {
     "data": {
      "text/plain": [
       "0.83"
      ]
     },
     "execution_count": 1,
     "metadata": {},
     "output_type": "execute_result"
    }
   ],
   "source": [
    "from sklearn.neural_network import MLPClassifier\n",
    "from sklearn.datasets import make_moons\n",
    "X,y = make_moons(noise=0.2)\n",
    "mlp = MLPClassifier(hidden_layer_sizes=(5,),max_iter=1000).fit(X,y)\n",
    "mlp.score(X,y)"
   ]
  },
  {
   "cell_type": "markdown",
   "id": "276df049",
   "metadata": {},
   "source": [
    "### Exercises & Further Reading\n",
    "1. Tune hidden layers.\n",
    "2. Compare with logistic regression.\n",
    "3. [sklearn neural network](https://scikit-learn.org/stable/modules/neural_networks_supervised.html)"
   ]
  }
 ],
 "metadata": {
  "language_info": {
   "codemirror_mode": {
    "name": "ipython",
    "version": 3
   },
   "file_extension": ".py",
   "mimetype": "text/x-python",
   "name": "python",
   "nbconvert_exporter": "python",
   "pygments_lexer": "ipython3",
   "version": "3.11.12"
  }
 },
 "nbformat": 4,
 "nbformat_minor": 5
}
