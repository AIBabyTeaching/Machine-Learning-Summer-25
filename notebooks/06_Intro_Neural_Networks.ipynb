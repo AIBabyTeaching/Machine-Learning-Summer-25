{
 "cells": [
  {
   "cell_type": "markdown",
   "id": "281894c1",
   "metadata": {},
   "source": [
    "# Intro to Neural Networks\n",
    "Using sklearn MLPClassifier."
   ]
  },
  {
   "cell_type": "code",
   "execution_count": 1,
   "id": "6690320d",
   "metadata": {
    "execution": {
     "iopub.execute_input": "2025-07-19T17:23:48.748000Z",
     "iopub.status.busy": "2025-07-19T17:23:48.747796Z",
     "iopub.status.idle": "2025-07-19T17:23:49.592020Z",
     "shell.execute_reply": "2025-07-19T17:23:49.590650Z"
    }
   },
   "outputs": [],
   "source": [
    "\n",
    "from sklearn.neural_network import MLPClassifier  # https://scikit-learn.org/stable/modules/generated/sklearn.neural_network.MLPClassifier.html\n",
    "from sklearn.datasets import make_moons\n",
    "from sklearn.model_selection import train_test_split\n",
    "from sklearn.metrics import accuracy_score\n"
   ]
  },
  {
   "cell_type": "code",
   "execution_count": 2,
   "id": "2df6c3d6",
   "metadata": {
    "execution": {
     "iopub.execute_input": "2025-07-19T17:23:49.595683Z",
     "iopub.status.busy": "2025-07-19T17:23:49.595373Z",
     "iopub.status.idle": "2025-07-19T17:23:50.040057Z",
     "shell.execute_reply": "2025-07-19T17:23:50.039115Z"
    }
   },
   "outputs": [
    {
     "name": "stderr",
     "output_type": "stream",
     "text": [
      "/root/.pyenv/versions/3.11.12/lib/python3.11/site-packages/sklearn/neural_network/_multilayer_perceptron.py:781: ConvergenceWarning: Stochastic Optimizer: Maximum iterations (500) reached and the optimization hasn't converged yet.\n",
      "  warnings.warn(\n"
     ]
    },
    {
     "data": {
      "text/plain": [
       "0.95"
      ]
     },
     "execution_count": 2,
     "metadata": {},
     "output_type": "execute_result"
    }
   ],
   "source": [
    "\n",
    "X, y = make_moons(n_samples=500, noise=0.2, random_state=42)\n",
    "X_train, X_test, y_train, y_test = train_test_split(X, y, test_size=0.2, random_state=42)\n",
    "clf = MLPClassifier(max_iter=500)\n",
    "clf.fit(X_train, y_train)\n",
    "y_pred = clf.predict(X_test)\n",
    "accuracy_score(y_test, y_pred)\n"
   ]
  },
  {
   "cell_type": "markdown",
   "id": "15c9ff64",
   "metadata": {},
   "source": [
    "## Exercises\n",
    "- Compare with logistic regression.\n"
   ]
  }
 ],
 "metadata": {
  "language_info": {
   "codemirror_mode": {
    "name": "ipython",
    "version": 3
   },
   "file_extension": ".py",
   "mimetype": "text/x-python",
   "name": "python",
   "nbconvert_exporter": "python",
   "pygments_lexer": "ipython3",
   "version": "3.11.12"
  }
 },
 "nbformat": 4,
 "nbformat_minor": 5
}
